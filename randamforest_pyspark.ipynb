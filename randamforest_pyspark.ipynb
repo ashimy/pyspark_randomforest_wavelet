{
 "cells": [
  {
   "cell_type": "markdown",
   "metadata": {},
   "source": [
    "# randamforest_pyspark"
   ]
  },
  {
   "cell_type": "code",
   "execution_count": 16,
   "metadata": {},
   "outputs": [],
   "source": [
    "from pyspark.sql import SparkSession\n",
    "spark = SparkSession.builder.appName('randomforest_pyspark').getOrCreate()"
   ]
  },
  {
   "cell_type": "code",
   "execution_count": 17,
   "metadata": {},
   "outputs": [],
   "source": [
    "from pyspark.sql.types import *                                                  \n",
    "\n",
    "labels = StructType([                                                            \n",
    "\n",
    "    StructField('failure', DoubleType(), False),                                 \n",
    "    StructField('weight', DoubleType(), False),                                  \n",
    "    StructField('vel', DoubleType(), False),                                 \n",
    "    StructField('mean1k_max', DoubleType(), False),                                  \n",
    "    StructField('std1k_max', DoubleType(), False),\n",
    "    StructField('max1k_max', DoubleType(), False),                                 \n",
    "    StructField('mean512_max', DoubleType(), False),                                  \n",
    "    StructField('std512_max', DoubleType(), False),                                 \n",
    "    StructField('max512_max', DoubleType(), False),                                  \n",
    "    StructField('mean256_max', DoubleType(), False),\n",
    "    StructField('std256_max', DoubleType(), False),                                 \n",
    "    StructField('max256_max', DoubleType(), False),                                  \n",
    "    StructField('mean128_max', DoubleType(), False),                                 \n",
    "    StructField('std128_max', DoubleType(), False),                                  \n",
    "    StructField('max128_max', DoubleType(), False),\n",
    "    StructField('mean64_max', DoubleType(), False),                                 \n",
    "    StructField('std64_max', DoubleType(), False),                                  \n",
    "    StructField('max64_max', DoubleType(), False),                                 \n",
    "    StructField('mean32_max', DoubleType(), False),                                  \n",
    "    StructField('std32_max', DoubleType(), False),\n",
    "    StructField('max32_max', DoubleType(), False),                                 \n",
    "    StructField('mean16_max', DoubleType(), False),                                  \n",
    "    StructField('std16_max', DoubleType(), False),                                 \n",
    "    StructField('max16_max', DoubleType(), False)\n",
    "    ])         "
   ]
  },
  {
   "cell_type": "code",
   "execution_count": 18,
   "metadata": {},
   "outputs": [
    {
     "name": "stdout",
     "output_type": "stream",
     "text": [
      "+-------+--------+-----+----------+---------+---------+-----------+----------+----------+-----------+----------+----------+-----------+----------+----------+----------+---------+---------+----------+---------+---------+----------+---------+---------+\n",
      "|failure|  weight|  vel|mean1k_max|std1k_max|max1k_max|mean512_max|std512_max|max512_max|mean256_max|std256_max|max256_max|mean128_max|std128_max|max128_max|mean64_max|std64_max|max64_max|mean32_max|std32_max|max32_max|mean16_max|std16_max|max16_max|\n",
      "+-------+--------+-----+----------+---------+---------+-----------+----------+----------+-----------+----------+----------+-----------+----------+----------+----------+---------+---------+----------+---------+---------+----------+---------+---------+\n",
      "|    0.0|40160.16|24.94|     58.91|   166.26|  2978.29|      37.73|     64.66|   1155.34|       11.4|      21.6|    452.41|       3.97|      7.36|    102.91|      5.12|     11.9|   173.47|      15.4|     54.5|   872.63|     38.03|    177.0|   3582.7|\n",
      "|    0.0|40160.16|24.75|     24.91|    66.24|  1744.77|      24.32|     39.78|    835.52|       9.78|      17.8|    281.61|       4.57|       7.1|    109.82|      7.45|     19.2|   251.08|     13.77|     47.8|    745.0|     21.24|     90.4|  1740.57|\n",
      "|    1.0|   39.87|25.55|     35.11|    87.53|  1543.34|      34.06|     57.09|    963.32|      11.44|      22.7|    378.17|       7.45|      13.5|    176.81|     20.55|     60.5|   860.35|     44.15|    138.0|  1617.04|     32.02|    168.0|  2800.06|\n",
      "|    1.0|40642.56|44.46|     164.4|   436.91|  9264.41|      180.0|    284.88|   4923.86|      29.46|      56.9|   1221.42|      39.68|     107.0|   1941.29|    174.06|    629.0|  9073.53|    583.86|   2610.0| 41943.45|    584.83|   2190.0|  38533.4|\n",
      "|    1.0|     4.1|45.86|    206.48|   585.35| 11527.15|      89.97|     156.0|   3157.42|      17.55|      32.1|    527.69|      29.99|      76.2|   1163.58|     97.49|    362.0|  5671.71|    415.21|   1790.0| 31499.61|    453.88|   1780.0| 33460.17|\n",
      "+-------+--------+-----+----------+---------+---------+-----------+----------+----------+-----------+----------+----------+-----------+----------+----------+----------+---------+---------+----------+---------+---------+----------+---------+---------+\n",
      "only showing top 5 rows\n",
      "\n"
     ]
    }
   ],
   "source": [
    "#read csv\n",
    "df=spark.read.csv(\"feature.csv\",schema=labels,header=\"True\",sep=\",\")   \n",
    "df.show(5)"
   ]
  },
  {
   "cell_type": "code",
   "execution_count": 19,
   "metadata": {},
   "outputs": [],
   "source": [
    "#make pipeline   \n",
    "# fearure assemble\n",
    "from pyspark.ml.feature import VectorAssembler\n",
    "featurecreator = VectorAssembler(inputCols=['weight', 'vel', 'mean1k_max', 'std1k_max', 'max1k_max', 'mean512_max', 'std512_max', \n",
    "                                          'max512_max', 'mean256_max', 'std256_max','max256_max', 'mean128_max', 'std128_max', 'max128_max', \n",
    "                                          'mean64_max', 'std64_max','max64_max', 'mean32_max', 'std32_max', 'max32_max', 'mean16_max', \n",
    "                                          'std16_max', 'max16_max'], outputCol=\"features\")\n",
    "#df = df_assembler.transform(df)\n",
    "\n",
    "\n",
    "#standardization\n",
    "from pyspark.ml.feature import StandardScaler                                       \n",
    "scaler = StandardScaler(inputCol='features', outputCol= 'scaledFeatures')           \n",
    "\n",
    "#randomforest\n",
    "from pyspark.ml.classification import RandomForestClassifier                        \n",
    "randamf = RandomForestClassifier(featuresCol = 'scaledFeatures', labelCol = 'failure',numTrees=50)     \n",
    "\n",
    "#pipeline featurecreator + scaler + randaomforest\n",
    "from pyspark.ml.pipeline import Pipeline                                            \n",
    "pipeline = Pipeline(stages=[featurecreator,scaler,randamf])     "
   ]
  },
  {
   "cell_type": "code",
   "execution_count": 20,
   "metadata": {},
   "outputs": [],
   "source": [
    "#trainiing\n",
    "(train, test) = df.randomSplit([0.8, 0.2])   \n",
    "model = pipeline.fit(train)     "
   ]
  },
  {
   "cell_type": "code",
   "execution_count": 21,
   "metadata": {},
   "outputs": [
    {
     "name": "stdout",
     "output_type": "stream",
     "text": [
      "Accuracy = 0.814815\n"
     ]
    }
   ],
   "source": [
    "from pyspark.ml.evaluation import MulticlassClassificationEvaluator                     \n",
    "predict = model.transform(test)                                                         \n",
    "evaluator = MulticlassClassificationEvaluator(labelCol='failure', predictionCol='prediction', metricName='accuracy')\n",
    "accuracy = evaluator.evaluate(predict)                                                  \n",
    "print(\"Accuracy = %g\" % (accuracy))  "
   ]
  }
 ],
 "metadata": {
  "kernelspec": {
   "display_name": "Python 3",
   "language": "python",
   "name": "python3"
  },
  "language_info": {
   "codemirror_mode": {
    "name": "ipython",
    "version": 3
   },
   "file_extension": ".py",
   "mimetype": "text/x-python",
   "name": "python",
   "nbconvert_exporter": "python",
   "pygments_lexer": "ipython3",
   "version": "3.8.3"
  }
 },
 "nbformat": 4,
 "nbformat_minor": 4
}
